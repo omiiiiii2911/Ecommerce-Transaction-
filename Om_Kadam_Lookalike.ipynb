{
 "cells": [
  {
   "cell_type": "code",
   "execution_count": 1,
   "metadata": {},
   "outputs": [
    {
     "name": "stdout",
     "output_type": "stream",
     "text": [
      "Lookalike model completed. Results saved to 'Lookalike.csv'.\n"
     ]
    }
   ],
   "source": [
    "# Import necessary libraries\n",
    "import pandas as pd\n",
    "from sklearn.metrics.pairwise import cosine_similarity\n",
    "from sklearn.preprocessing import StandardScaler\n",
    "\n",
    "# Load datasets\n",
    "customers = pd.read_csv(r\"C:\\Users\\Dell\\Downloads\\Customers.csv\")\n",
    "products = pd.read_csv(r\"C:\\Users\\Dell\\Downloads\\Products.csv\")\n",
    "transactions = pd.read_csv(r\"C:\\Users\\Dell\\Downloads\\Transactions.csv\")\n",
    "\n",
    "# Merge datasets\n",
    "merged_data = transactions.merge(customers, on=\"CustomerID\", how=\"left\").merge(products, on=\"ProductID\", how=\"left\")\n",
    "\n",
    "# Prepare customer profile matrix\n",
    "customer_profile = merged_data.groupby(\"CustomerID\")[\"TotalValue\"].sum().reset_index()\n",
    "customer_profile = customer_profile.merge(customers, on=\"CustomerID\", how=\"left\")\n",
    "\n",
    "# Feature encoding (e.g., one-hot encode 'Region')\n",
    "customer_profile_encoded = pd.get_dummies(customer_profile.drop(columns=[\"CustomerID\", \"CustomerName\", \"SignupDate\"]))\n",
    "\n",
    "# Scale data for similarity calculations\n",
    "scaler = StandardScaler()\n",
    "scaled_features = scaler.fit_transform(customer_profile_encoded)\n",
    "\n",
    "# Calculate cosine similarity\n",
    "similarity_matrix = cosine_similarity(scaled_features)\n",
    "similarity_df = pd.DataFrame(similarity_matrix, index=customer_profile[\"CustomerID\"], columns=customer_profile[\"CustomerID\"])\n",
    "\n",
    "# Generate top 3 lookalikes for the first 20 customers\n",
    "lookalikes = {}\n",
    "for customer_id in customer_profile[\"CustomerID\"].head(20):\n",
    "    similar_customers = similarity_df[customer_id].sort_values(ascending=False).iloc[1:4]\n",
    "    lookalikes[customer_id] = [(sim_id, round(score, 4)) for sim_id, score in similar_customers.items()]\n",
    "\n",
    "# Save lookalikes to CSV\n",
    "lookalike_df = pd.DataFrame({\"CustomerID\": list(lookalikes.keys()), \"Lookalikes\": list(lookalikes.values())})\n",
    "lookalike_df.to_csv(\"Lookalike.csv\", index=False)\n",
    "\n",
    "print(\"Lookalike model completed. Results saved to 'Lookalike.csv'.\")\n"
   ]
  }
 ],
 "metadata": {
  "kernelspec": {
   "display_name": "Python 3",
   "language": "python",
   "name": "python3"
  },
  "language_info": {
   "codemirror_mode": {
    "name": "ipython",
    "version": 3
   },
   "file_extension": ".py",
   "mimetype": "text/x-python",
   "name": "python",
   "nbconvert_exporter": "python",
   "pygments_lexer": "ipython3",
   "version": "3.11.9"
  }
 },
 "nbformat": 4,
 "nbformat_minor": 2
}
